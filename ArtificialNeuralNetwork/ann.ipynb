{
 "cells": [
  {
   "cell_type": "code",
   "execution_count": 1,
   "metadata": {},
   "outputs": [],
   "source": [
    "import numpy as np\n",
    "import pandas as pd"
   ]
  },
  {
   "cell_type": "code",
   "execution_count": 2,
   "metadata": {},
   "outputs": [],
   "source": [
    "dataset = pd.read_csv(\"Churn_Modelling.csv\")"
   ]
  },
  {
   "cell_type": "code",
   "execution_count": 3,
   "metadata": {},
   "outputs": [
    {
     "data": {
      "text/html": [
       "<div>\n",
       "<style scoped>\n",
       "    .dataframe tbody tr th:only-of-type {\n",
       "        vertical-align: middle;\n",
       "    }\n",
       "\n",
       "    .dataframe tbody tr th {\n",
       "        vertical-align: top;\n",
       "    }\n",
       "\n",
       "    .dataframe thead th {\n",
       "        text-align: right;\n",
       "    }\n",
       "</style>\n",
       "<table border=\"1\" class=\"dataframe\">\n",
       "  <thead>\n",
       "    <tr style=\"text-align: right;\">\n",
       "      <th></th>\n",
       "      <th>RowNumber</th>\n",
       "      <th>CustomerId</th>\n",
       "      <th>Surname</th>\n",
       "      <th>CreditScore</th>\n",
       "      <th>Geography</th>\n",
       "      <th>Gender</th>\n",
       "      <th>Age</th>\n",
       "      <th>Tenure</th>\n",
       "      <th>Balance</th>\n",
       "      <th>NumOfProducts</th>\n",
       "      <th>HasCrCard</th>\n",
       "      <th>IsActiveMember</th>\n",
       "      <th>EstimatedSalary</th>\n",
       "      <th>Exited</th>\n",
       "    </tr>\n",
       "  </thead>\n",
       "  <tbody>\n",
       "    <tr>\n",
       "      <th>0</th>\n",
       "      <td>1</td>\n",
       "      <td>15634602</td>\n",
       "      <td>Hargrave</td>\n",
       "      <td>619</td>\n",
       "      <td>France</td>\n",
       "      <td>Female</td>\n",
       "      <td>42</td>\n",
       "      <td>2</td>\n",
       "      <td>0.00</td>\n",
       "      <td>1</td>\n",
       "      <td>1</td>\n",
       "      <td>1</td>\n",
       "      <td>101348.88</td>\n",
       "      <td>1</td>\n",
       "    </tr>\n",
       "    <tr>\n",
       "      <th>1</th>\n",
       "      <td>2</td>\n",
       "      <td>15647311</td>\n",
       "      <td>Hill</td>\n",
       "      <td>608</td>\n",
       "      <td>Spain</td>\n",
       "      <td>Female</td>\n",
       "      <td>41</td>\n",
       "      <td>1</td>\n",
       "      <td>83807.86</td>\n",
       "      <td>1</td>\n",
       "      <td>0</td>\n",
       "      <td>1</td>\n",
       "      <td>112542.58</td>\n",
       "      <td>0</td>\n",
       "    </tr>\n",
       "    <tr>\n",
       "      <th>2</th>\n",
       "      <td>3</td>\n",
       "      <td>15619304</td>\n",
       "      <td>Onio</td>\n",
       "      <td>502</td>\n",
       "      <td>France</td>\n",
       "      <td>Female</td>\n",
       "      <td>42</td>\n",
       "      <td>8</td>\n",
       "      <td>159660.80</td>\n",
       "      <td>3</td>\n",
       "      <td>1</td>\n",
       "      <td>0</td>\n",
       "      <td>113931.57</td>\n",
       "      <td>1</td>\n",
       "    </tr>\n",
       "    <tr>\n",
       "      <th>3</th>\n",
       "      <td>4</td>\n",
       "      <td>15701354</td>\n",
       "      <td>Boni</td>\n",
       "      <td>699</td>\n",
       "      <td>France</td>\n",
       "      <td>Female</td>\n",
       "      <td>39</td>\n",
       "      <td>1</td>\n",
       "      <td>0.00</td>\n",
       "      <td>2</td>\n",
       "      <td>0</td>\n",
       "      <td>0</td>\n",
       "      <td>93826.63</td>\n",
       "      <td>0</td>\n",
       "    </tr>\n",
       "    <tr>\n",
       "      <th>4</th>\n",
       "      <td>5</td>\n",
       "      <td>15737888</td>\n",
       "      <td>Mitchell</td>\n",
       "      <td>850</td>\n",
       "      <td>Spain</td>\n",
       "      <td>Female</td>\n",
       "      <td>43</td>\n",
       "      <td>2</td>\n",
       "      <td>125510.82</td>\n",
       "      <td>1</td>\n",
       "      <td>1</td>\n",
       "      <td>1</td>\n",
       "      <td>79084.10</td>\n",
       "      <td>0</td>\n",
       "    </tr>\n",
       "    <tr>\n",
       "      <th>5</th>\n",
       "      <td>6</td>\n",
       "      <td>15574012</td>\n",
       "      <td>Chu</td>\n",
       "      <td>645</td>\n",
       "      <td>Spain</td>\n",
       "      <td>Male</td>\n",
       "      <td>44</td>\n",
       "      <td>8</td>\n",
       "      <td>113755.78</td>\n",
       "      <td>2</td>\n",
       "      <td>1</td>\n",
       "      <td>0</td>\n",
       "      <td>149756.71</td>\n",
       "      <td>1</td>\n",
       "    </tr>\n",
       "    <tr>\n",
       "      <th>6</th>\n",
       "      <td>7</td>\n",
       "      <td>15592531</td>\n",
       "      <td>Bartlett</td>\n",
       "      <td>822</td>\n",
       "      <td>France</td>\n",
       "      <td>Male</td>\n",
       "      <td>50</td>\n",
       "      <td>7</td>\n",
       "      <td>0.00</td>\n",
       "      <td>2</td>\n",
       "      <td>1</td>\n",
       "      <td>1</td>\n",
       "      <td>10062.80</td>\n",
       "      <td>0</td>\n",
       "    </tr>\n",
       "    <tr>\n",
       "      <th>7</th>\n",
       "      <td>8</td>\n",
       "      <td>15656148</td>\n",
       "      <td>Obinna</td>\n",
       "      <td>376</td>\n",
       "      <td>Germany</td>\n",
       "      <td>Female</td>\n",
       "      <td>29</td>\n",
       "      <td>4</td>\n",
       "      <td>115046.74</td>\n",
       "      <td>4</td>\n",
       "      <td>1</td>\n",
       "      <td>0</td>\n",
       "      <td>119346.88</td>\n",
       "      <td>1</td>\n",
       "    </tr>\n",
       "    <tr>\n",
       "      <th>8</th>\n",
       "      <td>9</td>\n",
       "      <td>15792365</td>\n",
       "      <td>He</td>\n",
       "      <td>501</td>\n",
       "      <td>France</td>\n",
       "      <td>Male</td>\n",
       "      <td>44</td>\n",
       "      <td>4</td>\n",
       "      <td>142051.07</td>\n",
       "      <td>2</td>\n",
       "      <td>0</td>\n",
       "      <td>1</td>\n",
       "      <td>74940.50</td>\n",
       "      <td>0</td>\n",
       "    </tr>\n",
       "    <tr>\n",
       "      <th>9</th>\n",
       "      <td>10</td>\n",
       "      <td>15592389</td>\n",
       "      <td>H?</td>\n",
       "      <td>684</td>\n",
       "      <td>France</td>\n",
       "      <td>Male</td>\n",
       "      <td>27</td>\n",
       "      <td>2</td>\n",
       "      <td>134603.88</td>\n",
       "      <td>1</td>\n",
       "      <td>1</td>\n",
       "      <td>1</td>\n",
       "      <td>71725.73</td>\n",
       "      <td>0</td>\n",
       "    </tr>\n",
       "  </tbody>\n",
       "</table>\n",
       "</div>"
      ],
      "text/plain": [
       "   RowNumber  CustomerId   Surname  CreditScore Geography  Gender  Age  \\\n",
       "0          1    15634602  Hargrave          619    France  Female   42   \n",
       "1          2    15647311      Hill          608     Spain  Female   41   \n",
       "2          3    15619304      Onio          502    France  Female   42   \n",
       "3          4    15701354      Boni          699    France  Female   39   \n",
       "4          5    15737888  Mitchell          850     Spain  Female   43   \n",
       "5          6    15574012       Chu          645     Spain    Male   44   \n",
       "6          7    15592531  Bartlett          822    France    Male   50   \n",
       "7          8    15656148    Obinna          376   Germany  Female   29   \n",
       "8          9    15792365        He          501    France    Male   44   \n",
       "9         10    15592389        H?          684    France    Male   27   \n",
       "\n",
       "   Tenure    Balance  NumOfProducts  HasCrCard  IsActiveMember  \\\n",
       "0       2       0.00              1          1               1   \n",
       "1       1   83807.86              1          0               1   \n",
       "2       8  159660.80              3          1               0   \n",
       "3       1       0.00              2          0               0   \n",
       "4       2  125510.82              1          1               1   \n",
       "5       8  113755.78              2          1               0   \n",
       "6       7       0.00              2          1               1   \n",
       "7       4  115046.74              4          1               0   \n",
       "8       4  142051.07              2          0               1   \n",
       "9       2  134603.88              1          1               1   \n",
       "\n",
       "   EstimatedSalary  Exited  \n",
       "0        101348.88       1  \n",
       "1        112542.58       0  \n",
       "2        113931.57       1  \n",
       "3         93826.63       0  \n",
       "4         79084.10       0  \n",
       "5        149756.71       1  \n",
       "6         10062.80       0  \n",
       "7        119346.88       1  \n",
       "8         74940.50       0  \n",
       "9         71725.73       0  "
      ]
     },
     "execution_count": 3,
     "metadata": {},
     "output_type": "execute_result"
    }
   ],
   "source": [
    "dataset.head(10)"
   ]
  },
  {
   "cell_type": "code",
   "execution_count": 4,
   "metadata": {},
   "outputs": [
    {
     "data": {
      "text/plain": [
       "RowNumber          False\n",
       "CustomerId         False\n",
       "Surname            False\n",
       "CreditScore        False\n",
       "Geography          False\n",
       "Gender             False\n",
       "Age                False\n",
       "Tenure             False\n",
       "Balance            False\n",
       "NumOfProducts      False\n",
       "HasCrCard          False\n",
       "IsActiveMember     False\n",
       "EstimatedSalary    False\n",
       "Exited             False\n",
       "dtype: bool"
      ]
     },
     "execution_count": 4,
     "metadata": {},
     "output_type": "execute_result"
    }
   ],
   "source": [
    "#check for missing values\n",
    "dataset.isnull().any()"
   ]
  },
  {
   "cell_type": "code",
   "execution_count": 5,
   "metadata": {},
   "outputs": [
    {
     "data": {
      "text/plain": [
       "(10000, 14)"
      ]
     },
     "execution_count": 5,
     "metadata": {},
     "output_type": "execute_result"
    }
   ],
   "source": [
    "dataset.shape"
   ]
  },
  {
   "cell_type": "code",
   "execution_count": 6,
   "metadata": {},
   "outputs": [],
   "source": [
    "from sklearn.preprocessing import LabelEncoder\n",
    "le = LabelEncoder()\n",
    "dataset['Geography'] = le.fit_transform(dataset['Geography'])\n",
    "dataset['Gender'] = le.fit_transform(dataset['Gender'])"
   ]
  },
  {
   "cell_type": "code",
   "execution_count": 7,
   "metadata": {},
   "outputs": [],
   "source": [
    "x = dataset.iloc[:,3:13].values\n",
    "y = dataset.iloc[:,13:14].values"
   ]
  },
  {
   "cell_type": "code",
   "execution_count": 8,
   "metadata": {},
   "outputs": [],
   "source": [
    "from sklearn.preprocessing import OneHotEncoder\n",
    "oh = OneHotEncoder()\n",
    "z = oh.fit_transform(x[:,1:2]).toarray()\n",
    "x = np.delete(x,1,axis=1)\n",
    "x = np.concatenate((z,x),axis=1)"
   ]
  },
  {
   "cell_type": "code",
   "execution_count": 9,
   "metadata": {},
   "outputs": [
    {
     "data": {
      "text/plain": [
       "(10000, 12)"
      ]
     },
     "execution_count": 9,
     "metadata": {},
     "output_type": "execute_result"
    }
   ],
   "source": [
    "x.shape"
   ]
  },
  {
   "cell_type": "code",
   "execution_count": 10,
   "metadata": {},
   "outputs": [],
   "source": [
    "#splitting the train, test split\n",
    "from sklearn.model_selection import train_test_split\n",
    "x_train, x_test, y_train , y_test = train_test_split(x,y,test_size = 0.2,random_state= 0)"
   ]
  },
  {
   "cell_type": "code",
   "execution_count": 11,
   "metadata": {},
   "outputs": [],
   "source": [
    "from sklearn.preprocessing import StandardScaler\n",
    "sc = StandardScaler()\n",
    "x_train = sc.fit_transform(x_train)\n",
    "x_test = sc.transform(x_test)"
   ]
  },
  {
   "cell_type": "code",
   "execution_count": 12,
   "metadata": {},
   "outputs": [
    {
     "data": {
      "text/plain": [
       "array([[-1.01460667, -0.5698444 ,  1.74309049, ...,  0.64259497,\n",
       "        -1.03227043,  1.10643166],\n",
       "       [-1.01460667,  1.75486502, -0.57369368, ...,  0.64259497,\n",
       "         0.9687384 , -0.74866447],\n",
       "       [ 0.98560362, -0.5698444 , -0.57369368, ...,  0.64259497,\n",
       "        -1.03227043,  1.48533467],\n",
       "       ...,\n",
       "       [ 0.98560362, -0.5698444 , -0.57369368, ...,  0.64259497,\n",
       "        -1.03227043,  1.41231994],\n",
       "       [-1.01460667, -0.5698444 ,  1.74309049, ...,  0.64259497,\n",
       "         0.9687384 ,  0.84432121],\n",
       "       [-1.01460667,  1.75486502, -0.57369368, ...,  0.64259497,\n",
       "        -1.03227043,  0.32472465]])"
      ]
     },
     "execution_count": 12,
     "metadata": {},
     "output_type": "execute_result"
    }
   ],
   "source": [
    "x_train"
   ]
  },
  {
   "cell_type": "code",
   "execution_count": 13,
   "metadata": {},
   "outputs": [
    {
     "name": "stderr",
     "output_type": "stream",
     "text": [
      "Using TensorFlow backend.\n"
     ]
    }
   ],
   "source": [
    "#ANN Implementation\n",
    "import keras\n",
    "from keras.models import Sequential\n",
    "from keras.layers import Dense"
   ]
  },
  {
   "cell_type": "code",
   "execution_count": 14,
   "metadata": {},
   "outputs": [
    {
     "name": "stdout",
     "output_type": "stream",
     "text": [
      "WARNING:tensorflow:From C:\\Users\\anshu\\AppData\\Local\\Continuum\\anaconda3\\lib\\site-packages\\keras\\backend\\tensorflow_backend.py:74: The name tf.get_default_graph is deprecated. Please use tf.compat.v1.get_default_graph instead.\n",
      "\n"
     ]
    }
   ],
   "source": [
    "classifier = Sequential()"
   ]
  },
  {
   "cell_type": "code",
   "execution_count": 15,
   "metadata": {},
   "outputs": [
    {
     "name": "stderr",
     "output_type": "stream",
     "text": [
      "C:\\Users\\anshu\\AppData\\Local\\Continuum\\anaconda3\\lib\\site-packages\\ipykernel_launcher.py:2: UserWarning: Update your `Dense` call to the Keras 2 API: `Dense(units=12, activation=\"relu\", kernel_initializer=\"uniform\")`\n",
      "  \n"
     ]
    }
   ],
   "source": [
    "#12 inputs are there as column\n",
    "classifier.add(Dense(units = 12, activation = 'relu', init = 'uniform'))"
   ]
  },
  {
   "cell_type": "code",
   "execution_count": 16,
   "metadata": {},
   "outputs": [
    {
     "name": "stderr",
     "output_type": "stream",
     "text": [
      "C:\\Users\\anshu\\AppData\\Local\\Continuum\\anaconda3\\lib\\site-packages\\ipykernel_launcher.py:2: UserWarning: Update your `Dense` call to the Keras 2 API: `Dense(units=24, activation=\"relu\", kernel_initializer=\"uniform\")`\n",
      "  \n"
     ]
    }
   ],
   "source": [
    "#for selecting the nodes of hidden layer\n",
    "classifier.add(Dense(units = 24, activation = 'relu',init = 'uniform'))"
   ]
  },
  {
   "cell_type": "code",
   "execution_count": 17,
   "metadata": {},
   "outputs": [
    {
     "name": "stderr",
     "output_type": "stream",
     "text": [
      "C:\\Users\\anshu\\AppData\\Local\\Continuum\\anaconda3\\lib\\site-packages\\ipykernel_launcher.py:1: UserWarning: Update your `Dense` call to the Keras 2 API: `Dense(units=32, activation=\"relu\", kernel_initializer=\"uniform\")`\n",
      "  \"\"\"Entry point for launching an IPython kernel.\n"
     ]
    }
   ],
   "source": [
    "classifier.add(Dense(units = 32, activation = 'relu',init = 'uniform' ))"
   ]
  },
  {
   "cell_type": "code",
   "execution_count": 18,
   "metadata": {},
   "outputs": [
    {
     "name": "stderr",
     "output_type": "stream",
     "text": [
      "C:\\Users\\anshu\\AppData\\Local\\Continuum\\anaconda3\\lib\\site-packages\\ipykernel_launcher.py:2: UserWarning: Update your `Dense` call to the Keras 2 API: `Dense(units=1, activation=\"sigmoid\", kernel_initializer=\"uniform\")`\n",
      "  \n"
     ]
    }
   ],
   "source": [
    "#for output\n",
    "classifier.add(Dense(units = 1, activation = 'sigmoid',init = 'uniform'))"
   ]
  },
  {
   "cell_type": "code",
   "execution_count": 19,
   "metadata": {},
   "outputs": [
    {
     "name": "stdout",
     "output_type": "stream",
     "text": [
      "WARNING:tensorflow:From C:\\Users\\anshu\\AppData\\Local\\Continuum\\anaconda3\\lib\\site-packages\\keras\\optimizers.py:790: The name tf.train.Optimizer is deprecated. Please use tf.compat.v1.train.Optimizer instead.\n",
      "\n"
     ]
    }
   ],
   "source": [
    "classifier.compile(optimizer = 'adam',loss = 'binary_crossentropy', metrics = ['accuracy'])"
   ]
  },
  {
   "cell_type": "code",
   "execution_count": 20,
   "metadata": {},
   "outputs": [
    {
     "name": "stdout",
     "output_type": "stream",
     "text": [
      "WARNING:tensorflow:From C:\\Users\\anshu\\AppData\\Local\\Continuum\\anaconda3\\lib\\site-packages\\keras\\backend\\tensorflow_backend.py:517: The name tf.placeholder is deprecated. Please use tf.compat.v1.placeholder instead.\n",
      "\n",
      "WARNING:tensorflow:From C:\\Users\\anshu\\AppData\\Local\\Continuum\\anaconda3\\lib\\site-packages\\keras\\backend\\tensorflow_backend.py:4138: The name tf.random_uniform is deprecated. Please use tf.random.uniform instead.\n",
      "\n"
     ]
    },
    {
     "name": "stderr",
     "output_type": "stream",
     "text": [
      "C:\\Users\\anshu\\AppData\\Local\\Continuum\\anaconda3\\lib\\site-packages\\ipykernel_launcher.py:1: UserWarning: The `nb_epoch` argument in `fit` has been renamed `epochs`.\n",
      "  \"\"\"Entry point for launching an IPython kernel.\n"
     ]
    },
    {
     "name": "stdout",
     "output_type": "stream",
     "text": [
      "WARNING:tensorflow:From C:\\Users\\anshu\\AppData\\Local\\Continuum\\anaconda3\\lib\\site-packages\\keras\\backend\\tensorflow_backend.py:3376: The name tf.log is deprecated. Please use tf.math.log instead.\n",
      "\n",
      "WARNING:tensorflow:From C:\\Users\\anshu\\AppData\\Local\\Continuum\\anaconda3\\lib\\site-packages\\tensorflow\\python\\ops\\nn_impl.py:180: add_dispatch_support.<locals>.wrapper (from tensorflow.python.ops.array_ops) is deprecated and will be removed in a future version.\n",
      "Instructions for updating:\n",
      "Use tf.where in 2.0, which has the same broadcast rule as np.where\n",
      "WARNING:tensorflow:From C:\\Users\\anshu\\AppData\\Local\\Continuum\\anaconda3\\lib\\site-packages\\keras\\backend\\tensorflow_backend.py:986: The name tf.assign_add is deprecated. Please use tf.compat.v1.assign_add instead.\n",
      "\n",
      "Epoch 1/100\n",
      "8000/8000 [==============================] - 2s 282us/step - loss: 0.5048 - acc: 0.7959\n",
      "Epoch 2/100\n",
      "8000/8000 [==============================] - 0s 44us/step - loss: 0.4315 - acc: 0.7960\n",
      "Epoch 3/100\n",
      "8000/8000 [==============================] - 0s 46us/step - loss: 0.4244 - acc: 0.7960\n",
      "Epoch 4/100\n",
      "8000/8000 [==============================] - 0s 49us/step - loss: 0.4206 - acc: 0.8105\n",
      "Epoch 5/100\n",
      "8000/8000 [==============================] - 0s 47us/step - loss: 0.4183 - acc: 0.8237\n",
      "Epoch 6/100\n",
      "8000/8000 [==============================] - 0s 49us/step - loss: 0.4175 - acc: 0.8251\n",
      "Epoch 7/100\n",
      "8000/8000 [==============================] - 0s 44us/step - loss: 0.4157 - acc: 0.8290\n",
      "Epoch 8/100\n",
      "8000/8000 [==============================] - 0s 44us/step - loss: 0.4141 - acc: 0.8304\n",
      "Epoch 9/100\n",
      "8000/8000 [==============================] - 0s 49us/step - loss: 0.4133 - acc: 0.8321\n",
      "Epoch 10/100\n",
      "8000/8000 [==============================] - 0s 52us/step - loss: 0.4126 - acc: 0.8340\n",
      "Epoch 11/100\n",
      "8000/8000 [==============================] - 0s 44us/step - loss: 0.4111 - acc: 0.8329\n",
      "Epoch 12/100\n",
      "8000/8000 [==============================] - 0s 46us/step - loss: 0.4108 - acc: 0.8327\n",
      "Epoch 13/100\n",
      "8000/8000 [==============================] - 0s 48us/step - loss: 0.4102 - acc: 0.8334\n",
      "Epoch 14/100\n",
      "8000/8000 [==============================] - 0s 50us/step - loss: 0.4092 - acc: 0.8327\n",
      "Epoch 15/100\n",
      "8000/8000 [==============================] - 0s 48us/step - loss: 0.4088 - acc: 0.8349\n",
      "Epoch 16/100\n",
      "8000/8000 [==============================] - 0s 48us/step - loss: 0.4068 - acc: 0.8335\n",
      "Epoch 17/100\n",
      "8000/8000 [==============================] - 0s 49us/step - loss: 0.4082 - acc: 0.8366\n",
      "Epoch 18/100\n",
      "8000/8000 [==============================] - 0s 46us/step - loss: 0.4065 - acc: 0.8348\n",
      "Epoch 19/100\n",
      "8000/8000 [==============================] - 0s 46us/step - loss: 0.4065 - acc: 0.8349\n",
      "Epoch 20/100\n",
      "8000/8000 [==============================] - 0s 50us/step - loss: 0.4058 - acc: 0.8348\n",
      "Epoch 21/100\n",
      "8000/8000 [==============================] - 0s 48us/step - loss: 0.4054 - acc: 0.8342\n",
      "Epoch 22/100\n",
      "8000/8000 [==============================] - 0s 49us/step - loss: 0.4046 - acc: 0.8344\n",
      "Epoch 23/100\n",
      "8000/8000 [==============================] - 0s 49us/step - loss: 0.4051 - acc: 0.8349\n",
      "Epoch 24/100\n",
      "8000/8000 [==============================] - 0s 51us/step - loss: 0.4040 - acc: 0.8366\n",
      "Epoch 25/100\n",
      "8000/8000 [==============================] - 1s 79us/step - loss: 0.4035 - acc: 0.8373\n",
      "Epoch 26/100\n",
      "8000/8000 [==============================] - 0s 55us/step - loss: 0.4028 - acc: 0.8351\n",
      "Epoch 27/100\n",
      "8000/8000 [==============================] - 0s 56us/step - loss: 0.4031 - acc: 0.8359\n",
      "Epoch 28/100\n",
      "8000/8000 [==============================] - 1s 67us/step - loss: 0.4026 - acc: 0.8350\n",
      "Epoch 29/100\n",
      "8000/8000 [==============================] - 0s 56us/step - loss: 0.4021 - acc: 0.8370\n",
      "Epoch 30/100\n",
      "8000/8000 [==============================] - 0s 51us/step - loss: 0.4020 - acc: 0.8359\n",
      "Epoch 31/100\n",
      "8000/8000 [==============================] - 0s 50us/step - loss: 0.4018 - acc: 0.8375\n",
      "Epoch 32/100\n",
      "8000/8000 [==============================] - 0s 49us/step - loss: 0.4011 - acc: 0.8366\n",
      "Epoch 33/100\n",
      "8000/8000 [==============================] - 0s 48us/step - loss: 0.4016 - acc: 0.8357\n",
      "Epoch 34/100\n",
      "8000/8000 [==============================] - 0s 46us/step - loss: 0.4012 - acc: 0.8382: 0s - loss: 0.4244 - acc: \n",
      "Epoch 35/100\n",
      "8000/8000 [==============================] - 0s 47us/step - loss: 0.4011 - acc: 0.8370\n",
      "Epoch 36/100\n",
      "8000/8000 [==============================] - 0s 51us/step - loss: 0.4011 - acc: 0.8365\n",
      "Epoch 37/100\n",
      "8000/8000 [==============================] - 0s 46us/step - loss: 0.4007 - acc: 0.8364\n",
      "Epoch 38/100\n",
      "8000/8000 [==============================] - 0s 60us/step - loss: 0.4006 - acc: 0.8382\n",
      "Epoch 39/100\n",
      "8000/8000 [==============================] - 0s 50us/step - loss: 0.4001 - acc: 0.8366\n",
      "Epoch 40/100\n",
      "8000/8000 [==============================] - 0s 53us/step - loss: 0.3998 - acc: 0.8364\n",
      "Epoch 41/100\n",
      "8000/8000 [==============================] - 0s 45us/step - loss: 0.3994 - acc: 0.8369\n",
      "Epoch 42/100\n",
      "8000/8000 [==============================] - 0s 49us/step - loss: 0.3992 - acc: 0.8379\n",
      "Epoch 43/100\n",
      "8000/8000 [==============================] - 0s 49us/step - loss: 0.3997 - acc: 0.8367\n",
      "Epoch 44/100\n",
      "8000/8000 [==============================] - 0s 50us/step - loss: 0.3981 - acc: 0.8373\n",
      "Epoch 45/100\n",
      "8000/8000 [==============================] - 0s 46us/step - loss: 0.3985 - acc: 0.8365\n",
      "Epoch 46/100\n",
      "8000/8000 [==============================] - 0s 48us/step - loss: 0.3985 - acc: 0.8376\n",
      "Epoch 47/100\n",
      "8000/8000 [==============================] - 0s 48us/step - loss: 0.3974 - acc: 0.8374\n",
      "Epoch 48/100\n",
      "8000/8000 [==============================] - 0s 47us/step - loss: 0.3973 - acc: 0.8373\n",
      "Epoch 49/100\n",
      "8000/8000 [==============================] - 0s 51us/step - loss: 0.3977 - acc: 0.8369\n",
      "Epoch 50/100\n",
      "8000/8000 [==============================] - 0s 46us/step - loss: 0.3964 - acc: 0.8370\n",
      "Epoch 51/100\n",
      "8000/8000 [==============================] - 0s 49us/step - loss: 0.3969 - acc: 0.8367\n",
      "Epoch 52/100\n",
      "8000/8000 [==============================] - 0s 51us/step - loss: 0.3963 - acc: 0.8376\n",
      "Epoch 53/100\n",
      "8000/8000 [==============================] - 0s 47us/step - loss: 0.3962 - acc: 0.8394\n",
      "Epoch 54/100\n",
      "8000/8000 [==============================] - 0s 51us/step - loss: 0.3956 - acc: 0.8379\n",
      "Epoch 55/100\n",
      "8000/8000 [==============================] - 0s 49us/step - loss: 0.3949 - acc: 0.8382\n",
      "Epoch 56/100\n",
      "8000/8000 [==============================] - 0s 50us/step - loss: 0.3955 - acc: 0.8380\n",
      "Epoch 57/100\n",
      "8000/8000 [==============================] - 0s 49us/step - loss: 0.3952 - acc: 0.8380\n",
      "Epoch 58/100\n",
      "8000/8000 [==============================] - 0s 48us/step - loss: 0.3956 - acc: 0.8381\n",
      "Epoch 59/100\n",
      "8000/8000 [==============================] - 0s 46us/step - loss: 0.3950 - acc: 0.8384\n",
      "Epoch 60/100\n",
      "8000/8000 [==============================] - 0s 48us/step - loss: 0.3956 - acc: 0.8385\n",
      "Epoch 61/100\n",
      "8000/8000 [==============================] - 0s 45us/step - loss: 0.3941 - acc: 0.8396\n",
      "Epoch 62/100\n",
      "8000/8000 [==============================] - 0s 50us/step - loss: 0.3945 - acc: 0.8381\n",
      "Epoch 63/100\n",
      "8000/8000 [==============================] - 0s 48us/step - loss: 0.3943 - acc: 0.8411\n",
      "Epoch 64/100\n",
      "8000/8000 [==============================] - 0s 46us/step - loss: 0.3947 - acc: 0.8397\n",
      "Epoch 65/100\n",
      "8000/8000 [==============================] - 0s 49us/step - loss: 0.3940 - acc: 0.8395\n",
      "Epoch 66/100\n",
      "8000/8000 [==============================] - 0s 49us/step - loss: 0.3940 - acc: 0.8380\n",
      "Epoch 67/100\n",
      "8000/8000 [==============================] - 0s 47us/step - loss: 0.3938 - acc: 0.8401\n",
      "Epoch 68/100\n",
      "8000/8000 [==============================] - 0s 46us/step - loss: 0.3937 - acc: 0.8381: 0s - loss: 0.4068 - acc: \n",
      "Epoch 69/100\n",
      "8000/8000 [==============================] - 0s 46us/step - loss: 0.3940 - acc: 0.8392\n",
      "Epoch 70/100\n",
      "8000/8000 [==============================] - 0s 50us/step - loss: 0.3937 - acc: 0.8390\n",
      "Epoch 71/100\n",
      "8000/8000 [==============================] - 0s 45us/step - loss: 0.3935 - acc: 0.8410\n",
      "Epoch 72/100\n",
      "8000/8000 [==============================] - 0s 44us/step - loss: 0.3937 - acc: 0.8381\n",
      "Epoch 73/100\n",
      "8000/8000 [==============================] - 0s 50us/step - loss: 0.3927 - acc: 0.8389\n",
      "Epoch 74/100\n"
     ]
    },
    {
     "name": "stdout",
     "output_type": "stream",
     "text": [
      "8000/8000 [==============================] - 0s 44us/step - loss: 0.3930 - acc: 0.8410\n",
      "Epoch 75/100\n",
      "8000/8000 [==============================] - 0s 48us/step - loss: 0.3931 - acc: 0.8401\n",
      "Epoch 76/100\n",
      "8000/8000 [==============================] - 0s 43us/step - loss: 0.3919 - acc: 0.8395\n",
      "Epoch 77/100\n",
      "8000/8000 [==============================] - 0s 43us/step - loss: 0.3917 - acc: 0.8385\n",
      "Epoch 78/100\n",
      "8000/8000 [==============================] - 0s 48us/step - loss: 0.3915 - acc: 0.8400\n",
      "Epoch 79/100\n",
      "8000/8000 [==============================] - 0s 49us/step - loss: 0.3916 - acc: 0.8395\n",
      "Epoch 80/100\n",
      "8000/8000 [==============================] - 0s 47us/step - loss: 0.3907 - acc: 0.8425\n",
      "Epoch 81/100\n",
      "8000/8000 [==============================] - 0s 48us/step - loss: 0.3905 - acc: 0.8433\n",
      "Epoch 82/100\n",
      "8000/8000 [==============================] - 0s 47us/step - loss: 0.3904 - acc: 0.8436\n",
      "Epoch 83/100\n",
      "8000/8000 [==============================] - 0s 56us/step - loss: 0.3895 - acc: 0.8435\n",
      "Epoch 84/100\n",
      "8000/8000 [==============================] - 1s 88us/step - loss: 0.3877 - acc: 0.8452\n",
      "Epoch 85/100\n",
      "8000/8000 [==============================] - 0s 59us/step - loss: 0.3856 - acc: 0.8458\n",
      "Epoch 86/100\n",
      "8000/8000 [==============================] - 0s 54us/step - loss: 0.3824 - acc: 0.8442\n",
      "Epoch 87/100\n",
      "8000/8000 [==============================] - 0s 55us/step - loss: 0.3776 - acc: 0.8466\n",
      "Epoch 88/100\n",
      "8000/8000 [==============================] - 0s 55us/step - loss: 0.3714 - acc: 0.8486\n",
      "Epoch 89/100\n",
      "8000/8000 [==============================] - 0s 60us/step - loss: 0.3625 - acc: 0.8527\n",
      "Epoch 90/100\n",
      "8000/8000 [==============================] - 1s 67us/step - loss: 0.3543 - acc: 0.8554\n",
      "Epoch 91/100\n",
      "8000/8000 [==============================] - 0s 51us/step - loss: 0.3489 - acc: 0.8579\n",
      "Epoch 92/100\n",
      "8000/8000 [==============================] - 0s 49us/step - loss: 0.3459 - acc: 0.8613\n",
      "Epoch 93/100\n",
      "8000/8000 [==============================] - 0s 44us/step - loss: 0.3419 - acc: 0.8613\n",
      "Epoch 94/100\n",
      "8000/8000 [==============================] - 0s 48us/step - loss: 0.3403 - acc: 0.8625\n",
      "Epoch 95/100\n",
      "8000/8000 [==============================] - 0s 47us/step - loss: 0.3384 - acc: 0.8600\n",
      "Epoch 96/100\n",
      "8000/8000 [==============================] - 0s 46us/step - loss: 0.3368 - acc: 0.8622\n",
      "Epoch 97/100\n",
      "8000/8000 [==============================] - 0s 48us/step - loss: 0.3362 - acc: 0.8626\n",
      "Epoch 98/100\n",
      "8000/8000 [==============================] - 0s 49us/step - loss: 0.3349 - acc: 0.8656\n",
      "Epoch 99/100\n",
      "8000/8000 [==============================] - 0s 48us/step - loss: 0.3348 - acc: 0.8621\n",
      "Epoch 100/100\n",
      "8000/8000 [==============================] - 0s 49us/step - loss: 0.3343 - acc: 0.8624\n"
     ]
    },
    {
     "data": {
      "text/plain": [
       "<keras.callbacks.History at 0x12c09fd46d8>"
      ]
     },
     "execution_count": 20,
     "metadata": {},
     "output_type": "execute_result"
    }
   ],
   "source": [
    "classifier.fit(x_train,y_train,batch_size=32,nb_epoch = 100)"
   ]
  },
  {
   "cell_type": "code",
   "execution_count": 22,
   "metadata": {},
   "outputs": [],
   "source": [
    "#predicting the y values\n",
    "y_pred = classifier.predict(x_test)\n",
    "y_pred = (y_pred>0.5)"
   ]
  },
  {
   "cell_type": "code",
   "execution_count": 25,
   "metadata": {},
   "outputs": [
    {
     "data": {
      "text/plain": [
       "0.858"
      ]
     },
     "execution_count": 25,
     "metadata": {},
     "output_type": "execute_result"
    }
   ],
   "source": [
    "from sklearn.metrics import accuracy_score\n",
    "acc = accuracy_score(y_test,y_pred)\n",
    "acc"
   ]
  },
  {
   "cell_type": "code",
   "execution_count": 26,
   "metadata": {},
   "outputs": [],
   "source": [
    "y_pr = classifier.predict(sc.transform(np.array([[1,0,0,619,0,25,2,40000,4,1,1,600000]])))"
   ]
  },
  {
   "cell_type": "code",
   "execution_count": 27,
   "metadata": {},
   "outputs": [
    {
     "data": {
      "text/plain": [
       "array([[0.6131228]], dtype=float32)"
      ]
     },
     "execution_count": 27,
     "metadata": {},
     "output_type": "execute_result"
    }
   ],
   "source": [
    "y_pr"
   ]
  }
 ],
 "metadata": {
  "kernelspec": {
   "display_name": "Python 3",
   "language": "python",
   "name": "python3"
  },
  "language_info": {
   "codemirror_mode": {
    "name": "ipython",
    "version": 3
   },
   "file_extension": ".py",
   "mimetype": "text/x-python",
   "name": "python",
   "nbconvert_exporter": "python",
   "pygments_lexer": "ipython3",
   "version": "3.7.3"
  }
 },
 "nbformat": 4,
 "nbformat_minor": 2
}
